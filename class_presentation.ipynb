{
  "nbformat": 4,
  "nbformat_minor": 0,
  "metadata": {
    "colab": {
      "name": "class_presentation.ipynb",
      "provenance": [],
      "collapsed_sections": [],
      "authorship_tag": "ABX9TyPULC2I1WFn+dLPkXmsp/c6",
      "include_colab_link": true
    },
    "kernelspec": {
      "name": "python3",
      "display_name": "Python 3"
    }
  },
  "cells": [
    {
      "cell_type": "markdown",
      "metadata": {
        "id": "view-in-github",
        "colab_type": "text"
      },
      "source": [
        "<a href=\"https://colab.research.google.com/github/NiloyNxt/imported_from_colab/blob/master/class_presentation.ipynb\" target=\"_parent\"><img src=\"https://colab.research.google.com/assets/colab-badge.svg\" alt=\"Open In Colab\"/></a>"
      ]
    },
    {
      "cell_type": "markdown",
      "metadata": {
        "id": "OKpjlaiHZVDg",
        "colab_type": "text"
      },
      "source": [
        "#Contains the basics of Python Classes"
      ]
    },
    {
      "cell_type": "code",
      "metadata": {
        "id": "RLSQXMXYY_Y_",
        "colab_type": "code",
        "outputId": "5289807f-ca44-4e7d-a967-65ab1ca490a8",
        "colab": {
          "base_uri": "https://localhost:8080/",
          "height": 54
        }
      },
      "source": [
        "#class >> mold/template/blueprint, object >> an instance of a class\n",
        "#in a class, data >> attributes, functions >> methods\n",
        "#defining a class:\n",
        "class Car:  #empty class\n",
        "    pass\n",
        "\n",
        "car_1 = Car()\n",
        "car_2 = Car()\n",
        "\n",
        "print(car_1)\n",
        "print(car_2)"
      ],
      "execution_count": 0,
      "outputs": [
        {
          "output_type": "stream",
          "text": [
            "<__main__.Car object at 0x7f3e6dc844e0>\n",
            "<__main__.Car object at 0x7f3e6dc84470>\n"
          ],
          "name": "stdout"
        }
      ]
    },
    {
      "cell_type": "code",
      "metadata": {
        "id": "ZTJHQK1BZQmZ",
        "colab_type": "code",
        "outputId": "2ca49c73-10e9-4073-dfd9-82da88f2c8ac",
        "colab": {
          "base_uri": "https://localhost:8080/",
          "height": 72
        }
      },
      "source": [
        "#class variables & instance variables\n",
        "#instance variables contain data that is unique to each instance\n",
        "\n",
        "#manual assignment of attributes\n",
        "car_1.name = 'Peter'\n",
        "car_1.brand = 'Porshe'\n",
        "car_1.lic = 'P001'\n",
        "car_1.price = 200000\n",
        "\n",
        "car_2.name = 'Mike'\n",
        "car_2.brand = 'Mercedes'\n",
        "car_2.lic = 'M001'\n",
        "car_2.price = 250000\n",
        "\n",
        "car_3 = Car()\n",
        "car_3.name = 'Adam'\n",
        "car_3.brand = 'Audi'\n",
        "car_3.lic = 'A001'\n",
        "car_3.price = 300000\n",
        "\n",
        "print(car_1.name)\n",
        "print(car_2.name)\n",
        "print(car_3.name)"
      ],
      "execution_count": 0,
      "outputs": [
        {
          "output_type": "stream",
          "text": [
            "Peter\n",
            "Mike\n",
            "Audi\n"
          ],
          "name": "stdout"
        }
      ]
    },
    {
      "cell_type": "code",
      "metadata": {
        "id": "j4lLKNfhZylC",
        "colab_type": "code",
        "outputId": "d82e482c-121c-4c5f-be64-6a60405253c9",
        "colab": {
          "base_uri": "https://localhost:8080/",
          "height": 72
        }
      },
      "source": [
        "# automatic assignment of attributes\n",
        "class Car:\n",
        "    def __init__(self, name, brand, lic, price): \n",
        "      #initailize; when we create methods within a class, they receive the instance as the first argument automatically\n",
        "      #by convention we call this instance \"self\"\n",
        "      self.name = name    #self.name doesn't necessarily have to be the name, \"self.nm = name\" is ok\n",
        "      self.brand = brand\n",
        "      self.lic = lic\n",
        "      self.price = price\n",
        "      self.plate = name + '-' + lic\n",
        "\n",
        "car_1 = Car('Peter', 'Porshe', 'P001', 200000)\n",
        "car_2 = Car('Mike', 'Mercedes', 'M001', 250000)\n",
        "car_3 = Car('Audi', 'Adam', 'A001', 300000)\n",
        "\n",
        "print(car_1.plate)\n",
        "print(car_2.plate)\n",
        "print(car_3.plate)\n"
      ],
      "execution_count": 0,
      "outputs": [
        {
          "output_type": "stream",
          "text": [
            "Peter-P001\n",
            "Mike-M001\n",
            "Audi-A001\n"
          ],
          "name": "stdout"
        }
      ]
    },
    {
      "cell_type": "code",
      "metadata": {
        "id": "_9TCI3n8g-X1",
        "colab_type": "code",
        "outputId": "69ec24fc-556a-4bd8-ca2f-157b57b1fff0",
        "colab": {
          "base_uri": "https://localhost:8080/",
          "height": 54
        }
      },
      "source": [
        "# create new method within class\n",
        "class Car:\n",
        "    def __init__(self, name, brand, lic, price): \n",
        "      self.name = name    #self.name doesn't necessarily have to be the name, \"self.nm = name\" is ok\n",
        "      self.brand = brand\n",
        "      self.lic = lic\n",
        "      self.price = price\n",
        "      self.plate = name + '-' + lic\n",
        "    \n",
        "    def engine_id(self): #\"self\" is important here, methods automatically takes in the name of the instance\n",
        "      self.eng = self.brand + self.lic\n",
        "      return self.eng\n",
        "\n",
        "car_1 = Car('Peter', 'Porshe', 'P001', 200000)\n",
        "print(car_1.engine_id()) #() is needed\n",
        "\n",
        "print(Car.engine_id(car_1))"
      ],
      "execution_count": 0,
      "outputs": [
        {
          "output_type": "stream",
          "text": [
            "PorsheP001\n",
            "PorsheP001\n"
          ],
          "name": "stdout"
        }
      ]
    },
    {
      "cell_type": "code",
      "metadata": {
        "id": "dRrOqoJXkEOq",
        "colab_type": "code",
        "outputId": "8484acb8-57fa-4e66-deef-0bb42e3c047f",
        "colab": {
          "base_uri": "https://localhost:8080/",
          "height": 54
        }
      },
      "source": [
        "#class variables\n",
        "#shared among all instances of the class\n",
        "#unlike instance variables which are unique/different for each object, class variables remain the same\n",
        "class Car:\n",
        "    def __init__(self, name, brand, lic, price): \n",
        "      self.name = name\n",
        "      self.brand = brand\n",
        "      self.lic = lic\n",
        "      self.price = price\n",
        "      self.plate = name + '-' + lic\n",
        "\n",
        "    def prepare_to_sell(self):\n",
        "      self.price = self.price * .8\n",
        "\n",
        "car_2 = Car('Mike', 'Mercedes', 'M001', 250000)\n",
        "\n",
        "print(car_2.price)\n",
        "car_2.prepare_to_sell()\n",
        "print(car_2.price)\n",
        "\n"
      ],
      "execution_count": 0,
      "outputs": [
        {
          "output_type": "stream",
          "text": [
            "250000\n",
            "200000.0\n"
          ],
          "name": "stdout"
        }
      ]
    },
    {
      "cell_type": "code",
      "metadata": {
        "id": "4B37ioIaoGEl",
        "colab_type": "code",
        "outputId": "d5cdb6a4-6b58-4f92-afde-e389c3f559c5",
        "colab": {
          "base_uri": "https://localhost:8080/",
          "height": 54
        }
      },
      "source": [
        "class Car:\n",
        "    price_down = .8\n",
        "    def __init__(self, name, brand, lic, price): \n",
        "      self.name = name\n",
        "      self.brand = brand\n",
        "      self.lic = lic\n",
        "      self.price = price\n",
        "      self.plate = name + '-' + lic\n",
        "\n",
        "    def prepare_to_sell(self):\n",
        "      self.price = self.price * price_down\n",
        "      #self.price = self.price * self.price_down\n",
        "      #self.price = self.price * Car.price_down\n",
        "\n",
        "car_2 = Car('Mike', 'Mercedes', 'M001', 250000)\n",
        "\n",
        "print(car_2.price)\n",
        "car_2.prepare_to_sell()\n",
        "print(car_2.price)"
      ],
      "execution_count": 0,
      "outputs": [
        {
          "output_type": "stream",
          "text": [
            "250000\n",
            "200000.0\n"
          ],
          "name": "stdout"
        }
      ]
    },
    {
      "cell_type": "code",
      "metadata": {
        "id": "YPHbmfknpFYW",
        "colab_type": "code",
        "outputId": "1b523d8c-dc84-4504-cb0c-a8f2aad0b908",
        "colab": {
          "base_uri": "https://localhost:8080/",
          "height": 108
        }
      },
      "source": [
        "#when we try to access an att. on an instance it checks id-> instance > current class > parent class has that attribute\n",
        "class Car:\n",
        "    price_down = .8\n",
        "    def __init__(self, name, brand, lic, price): \n",
        "      self.name = name\n",
        "      self.brand = brand\n",
        "      self.lic = lic\n",
        "      self.price = price\n",
        "      self.plate = name + '-' + lic\n",
        "\n",
        "    def prepare_to_sell(self):\n",
        "      self.price = self.price * self.price_down\n",
        "\n",
        "car_2 = Car('Mike', 'Mercedes', 'M001', 250000)\n",
        "car_3 = Car('Audi', 'Adam', 'A001', 300000)\n",
        "\n",
        "# print(Car.price_down)\n",
        "# print(car_2.price_down)\n",
        "# print(car_3.price_down)\n",
        "\n",
        "# print(car_2.__dict__)\n",
        "# print(Car.__dict__)\n",
        "\n",
        "print(car_2.price)\n",
        "car_2.prepare_to_sell()\n",
        "print(car_2.price)\n",
        "\n",
        "print(car_3.price)\n",
        "car_3.price_down = .9\n",
        "print(car_3.__dict__)\n",
        "car_3.prepare_to_sell()\n",
        "print(car_3.price)\n",
        "\n",
        "#doesn't happen if Car.price_down instead of self.price_down"
      ],
      "execution_count": 0,
      "outputs": [
        {
          "output_type": "stream",
          "text": [
            "250000\n",
            "200000.0\n",
            "300000\n",
            "{'name': 'Audi', 'brand': 'Adam', 'lic': 'A001', 'price': 300000, 'plate': 'Audi-A001', 'price_down': 0.9}\n",
            "240000.0\n"
          ],
          "name": "stdout"
        }
      ]
    },
    {
      "cell_type": "code",
      "metadata": {
        "id": "6aGOPtKasHOm",
        "colab_type": "code",
        "outputId": "7045b1cd-9495-4d7e-a9ce-8c3184cbbcbc",
        "colab": {
          "base_uri": "https://localhost:8080/",
          "height": 35
        }
      },
      "source": [
        "#count cars, absolute class attribute\n",
        "class Car:\n",
        "    price_down = .8\n",
        "    num_cars = 0\n",
        "    def __init__(self, name, brand, lic, price): \n",
        "      self.name = name\n",
        "      self.brand = brand\n",
        "      self.lic = lic\n",
        "      self.price = price\n",
        "      self.plate = name + '-' + lic\n",
        "\n",
        "      Car.num_cars = Car.num_cars + 1\n",
        "\n",
        "    def prepare_to_sell(self):\n",
        "      self.price = self.price * self.price_down\n",
        "\n",
        "car_1 = Car('Peter', 'Porshe', 'P001', 200000)\n",
        "car_2 = Car('Mike', 'Mercedes', 'M001', 250000)\n",
        "car_3 = Car('Audi', 'Adam', 'A001', 300000)\n",
        "print(Car.num_cars)\n",
        "\n"
      ],
      "execution_count": 0,
      "outputs": [
        {
          "output_type": "stream",
          "text": [
            "3\n"
          ],
          "name": "stdout"
        }
      ]
    },
    {
      "cell_type": "code",
      "metadata": {
        "id": "IcxVpXmns4oI",
        "colab_type": "code",
        "outputId": "06b1f035-b66c-48e8-b972-d5d07bef55a9",
        "colab": {
          "base_uri": "https://localhost:8080/",
          "height": 72
        }
      },
      "source": [
        "#regular method, class method, static method\n",
        "#regular methods takes the instance name as the first argument by default\n",
        "#class method takes the class name as the first argument\n",
        "#static methods don't pass anything\n",
        "\n",
        "class Car:\n",
        "    mntn_cost = 1000\n",
        "    def __init__(self, name, brand, lic, price): \n",
        "      self.name = name\n",
        "      self.brand = brand\n",
        "      self.lic = lic\n",
        "      self.price = price\n",
        "      self.plate = name + '-' + lic      \n",
        "\n",
        "    @classmethod                    #takes the class as the first argument\n",
        "    def set_mntn_cost(cls, amount):\n",
        "      cls.mntn_cost = amount\n",
        "\n",
        "car_1 = Car('Peter', 'Porshe', 'P001', 200000)\n",
        "car_2 = Car('Mike', 'Mercedes', 'M001', 250000)\n",
        "car_3 = Car('Audi', 'Adam', 'A001', 300000)\n",
        "\n",
        "Car.set_mntn_cost(1500)\n",
        "#car_1.set_mntn_cost(1500)\n",
        "\n",
        "print(car_1.mntn_cost)\n",
        "print(car_2.mntn_cost)\n",
        "print(car_3.mntn_cost)"
      ],
      "execution_count": 0,
      "outputs": [
        {
          "output_type": "stream",
          "text": [
            "1500\n",
            "1500\n",
            "1500\n"
          ],
          "name": "stdout"
        }
      ]
    },
    {
      "cell_type": "code",
      "metadata": {
        "id": "ju8RPvg03JHr",
        "colab_type": "code",
        "outputId": "e9ea98f6-8c4e-44ac-f5d3-df1790c5e3ae",
        "colab": {
          "base_uri": "https://localhost:8080/",
          "height": 54
        }
      },
      "source": [
        "#static methods\n",
        "class Car:\n",
        "    cars_list = []\n",
        "\n",
        "    def __init__(self, name, brand, lic, price): \n",
        "      self.name = name\n",
        "      self.brand = brand\n",
        "      self.lic = lic\n",
        "      self.price = price\n",
        "      self.plate = name + '-' + lic\n",
        "      Car.cars_list.append(lic)\n",
        "\n",
        "    @staticmethod\n",
        "    def check_car(lic_check):\n",
        "     if lic_check in Car.cars_list: return True\n",
        "\n",
        "car_1 = Car('Peter', 'Porshe', 'P001', 200000)\n",
        "car_2 = Car('Mike', 'Mercedes', 'M001', 250000)\n",
        "car_3 = Car('Audi', 'Adam', 'A001', 300000)\n",
        "\n",
        "print(Car.cars_list)\n",
        "\n",
        "print(Car.check_car('P001'))"
      ],
      "execution_count": 0,
      "outputs": [
        {
          "output_type": "stream",
          "text": [
            "['P001', 'M001', 'A001']\n",
            "True\n"
          ],
          "name": "stdout"
        }
      ]
    },
    {
      "cell_type": "code",
      "metadata": {
        "id": "jjrHwqdM6em6",
        "colab_type": "code",
        "outputId": "083ee143-0320-411e-a26a-5e476a44def9",
        "colab": {
          "base_uri": "https://localhost:8080/",
          "height": 508
        }
      },
      "source": [
        "#inheretance\n",
        "#Regular cars, luxary cars, sports cars\n",
        "\n",
        "class Car:\n",
        "    def __init__(self, name, brand, lic, price): \n",
        "      self.name = name\n",
        "      self.brand = brand\n",
        "      self.lic = lic\n",
        "      self.price = price\n",
        "      self.plate = name + '-' + lic\n",
        "\n",
        "class SportsCar(Car):\n",
        "  pass\n",
        "\n",
        "car_1 = Car('Peter', 'Porshe', 'P001', 200000)\n",
        "car_2 = Car('Mike', 'Mercedes', 'M001', 250000)\n",
        "car_3 = Car('Audi', 'Adam', 'A001', 300000)\n",
        "\n",
        "car_4 = SportsCar('Frank', 'Ferrari', 'F001', 2000000)\n",
        "car_5 = SportsCar('Liam', 'Lamborgini', 'L001', 2500000)\n",
        "\n",
        "print(car_4.name)\n",
        "print(car_5.name)\n",
        "\n",
        "#method resolution order: primary class > parent class\n",
        "\n",
        "#print(help(SportsCar))\n",
        "\n"
      ],
      "execution_count": 0,
      "outputs": [
        {
          "output_type": "stream",
          "text": [
            "Frank\n",
            "Liam\n",
            "Help on class SportsCar in module __main__:\n",
            "\n",
            "class SportsCar(Car)\n",
            " |  Method resolution order:\n",
            " |      SportsCar\n",
            " |      Car\n",
            " |      builtins.object\n",
            " |  \n",
            " |  Methods inherited from Car:\n",
            " |  \n",
            " |  __init__(self, name, brand, lic, price)\n",
            " |      Initialize self.  See help(type(self)) for accurate signature.\n",
            " |  \n",
            " |  prepare_to_sell(self)\n",
            " |  \n",
            " |  ----------------------------------------------------------------------\n",
            " |  Data descriptors inherited from Car:\n",
            " |  \n",
            " |  __dict__\n",
            " |      dictionary for instance variables (if defined)\n",
            " |  \n",
            " |  __weakref__\n",
            " |      list of weak references to the object (if defined)\n",
            "\n",
            "None\n"
          ],
          "name": "stdout"
        }
      ]
    },
    {
      "cell_type": "code",
      "metadata": {
        "id": "G7jGgryY-zBw",
        "colab_type": "code",
        "outputId": "1b027d85-13bf-488d-dbd9-cb490da164d0",
        "colab": {
          "base_uri": "https://localhost:8080/",
          "height": 145
        }
      },
      "source": [
        "#new attributes\n",
        "\n",
        "class Car:\n",
        "    mntn_cost = 1000\n",
        "    def __init__(self, name, brand, lic, price): \n",
        "      self.name = name\n",
        "      self.brand = brand\n",
        "      self.lic = lic\n",
        "      self.price = price\n",
        "      self.plate = name + '-' + lic\n",
        "\n",
        "    def prepare_to_sell(self):\n",
        "      self.price = self.price * .8\n",
        "\n",
        "class SportsCar(Car):\n",
        "    mntn_cost = 5000\n",
        "    def __init__(self, name, brand, lic, price, top_speed):\n",
        "      super().__init__(name, brand, lic, price)\n",
        "      #Car.__init__(self, name, brand, lic, price)\n",
        "      self.top_speed = top_speed\n",
        "\n",
        "car_1 = Car('Peter', 'Porshe', 'P001', 200000)\n",
        "car_4 = SportsCar('Frank', 'Ferrari', 'F001', 2000000, 250)\n",
        "\n",
        "print(car_4.plate)\n",
        "print(car_4.top_speed)\n",
        "\n",
        "print(isinstance(car_1, Car))\n",
        "print(isinstance(car_4, Car))\n",
        "print(isinstance(car_1, SportsCar))\n",
        "print(isinstance(car_4, SportsCar))\n",
        "\n",
        "print(issubclass(SportsCar, Car))\n"
      ],
      "execution_count": 0,
      "outputs": [
        {
          "output_type": "stream",
          "text": [
            "Frank-F001\n",
            "250\n",
            "True\n",
            "True\n",
            "False\n",
            "True\n",
            "True\n"
          ],
          "name": "stdout"
        }
      ]
    },
    {
      "cell_type": "code",
      "metadata": {
        "id": "0IeTjqsQS7e2",
        "colab_type": "code",
        "outputId": "d6df964b-f8ea-4e80-cc3c-e33eb91bde7f",
        "colab": {
          "base_uri": "https://localhost:8080/",
          "height": 35
        }
      },
      "source": [
        "#inheritance from multiple class:\n",
        "\n",
        "class Car:\n",
        "    def __init__(self, name, brand, lic, price): \n",
        "      self.name = name\n",
        "      self.brand = brand\n",
        "      self.lic = lic\n",
        "      self.price = price\n",
        "      self.plate = name + '-' + lic\n",
        "\n",
        "class Boat:\n",
        "  def __init__(self, weight, material, capacity):\n",
        "      self.weight = weight\n",
        "      self.material = material\n",
        "      self.cpacity = capacity\n",
        "\n",
        "class Hybrid(Car, Boat):\n",
        "  def __init__(self, name, brand, lic, price, weight, material, capacity):\n",
        "    Car.__init__(self, name, brand, lic, price)\n",
        "    Boat.__init__(self, weight, material, capacity)\n",
        "\n",
        "Hyb_1 = Hybrid('Peter', 'Porshe', 'P001', 200000, 1000, 'aluminium', 200)\n",
        "\n",
        "print(Hyb_1.weight)"
      ],
      "execution_count": 0,
      "outputs": [
        {
          "output_type": "stream",
          "text": [
            "1000\n"
          ],
          "name": "stdout"
        }
      ]
    },
    {
      "cell_type": "code",
      "metadata": {
        "id": "LJa-MFVeSFxr",
        "colab_type": "code",
        "outputId": "3269b565-81ad-463e-ac15-311bbf9a949c",
        "colab": {
          "base_uri": "https://localhost:8080/",
          "height": 54
        }
      },
      "source": [
        "#encapsulation\n",
        "#Encapsulation prevents from accessing accidentally, but not intentionally.\n",
        "class Car:\n",
        "    def __init__(self):\n",
        "        pass \n",
        "\n",
        "    def drive(self):\n",
        "        print('driving')\n",
        "\n",
        "    def __updateSoftware(self):\n",
        "        print('updating software')\n",
        "\n",
        "redcar = Car()\n",
        "redcar.drive()\n",
        "redcar.__updateSoftware()\n",
        "#redcar._Car__updateSoftware()"
      ],
      "execution_count": 0,
      "outputs": [
        {
          "output_type": "stream",
          "text": [
            "driving\n",
            "updating software\n"
          ],
          "name": "stdout"
        }
      ]
    },
    {
      "cell_type": "code",
      "metadata": {
        "id": "RM8fgA0fUxAB",
        "colab_type": "code",
        "outputId": "d0ff9973-7ee4-45f0-e6be-f614ae3d64b1",
        "colab": {
          "base_uri": "https://localhost:8080/",
          "height": 54
        }
      },
      "source": [
        "#The literal meaning of polymorphism is the condition of occurrence in different forms. \n",
        "#It refers to the use of a single type entity (method, operator or object) to represent different types in different scenarios.\n",
        "#We can use the concept of polymorphism while creating class methods as Python allows different classes to have methods with the same name.\n",
        "\n",
        "class Cat:\n",
        "    def __init__(self, name, age):\n",
        "        self.name = name\n",
        "        self.age = age\n",
        "\n",
        "    def make_sound(self):\n",
        "        print(\"Meow\")\n",
        "\n",
        "class Dog:\n",
        "    def __init__(self, name, age):\n",
        "        self.name = name\n",
        "        self.age = age\n",
        "\n",
        "    def make_sound(self):\n",
        "        print(\"Bark\")\n",
        "\n",
        "cat1 = Cat(\"Kitty\", 2.5)\n",
        "dog1 = Dog(\"Fluffy\", 4)\n",
        "\n",
        "for i in (cat1, dog1):\n",
        "    i.make_sound()\n",
        "\n",
        "#Here, we have created two classes Cat and Dog. They share a similar structure and have the same method names make_sound().\n",
        "\n",
        "#However, notice that we have not created a common superclass or linked the classes together in any way. \n",
        "#Even then, we can pack these two different objects into a tuple and iterate through it using a common animal variable. It is possible due to polymorphism.\n",
        "#polymorphism handles when to overwrite an attribute or a method, and when not to"
      ],
      "execution_count": 0,
      "outputs": [
        {
          "output_type": "stream",
          "text": [
            "Meow\n",
            "Bark\n"
          ],
          "name": "stdout"
        }
      ]
    },
    {
      "cell_type": "code",
      "metadata": {
        "id": "0HPWMAz7Yxk2",
        "colab_type": "code",
        "outputId": "531aeef7-16e5-460b-ed01-fd3bde403aad",
        "colab": {
          "base_uri": "https://localhost:8080/",
          "height": 35
        }
      },
      "source": [
        "#numpy:\n",
        "import numpy as np\n",
        "a = np.arange(15).reshape(3, 5)\n",
        "a\n",
        "a.shape\n",
        "a.ndim\n",
        "print(a.dtype.name)\n",
        "a.itemsize\n",
        "a.size\n",
        "\n",
        "a = np.array([2,3,4])\n",
        "b = np.array([1.2, 3.5, 5.1])\n",
        "b.dtype\n",
        "\n",
        "#2Darray\n",
        "b = np.array([(1.5,2,3), (4,5,6)])\n",
        "\n",
        "a = np.array( [20,30,40,50] )\n",
        "b = np.arange( 4 )\n",
        "c = a-b"
      ],
      "execution_count": 0,
      "outputs": [
        {
          "output_type": "stream",
          "text": [
            "int64\n"
          ],
          "name": "stdout"
        }
      ]
    }
  ]
}